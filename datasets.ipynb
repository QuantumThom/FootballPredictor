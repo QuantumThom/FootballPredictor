{
 "cells": [
  {
   "cell_type": "code",
   "execution_count": 2,
   "id": "d726863f-9377-48c0-ac0e-f1baf0ddb6a2",
   "metadata": {},
   "outputs": [],
   "source": [
    "import pandas as pd\n",
    "import os\n",
    "\n",
    "path = \"data/\"\n",
    "extension = \".csv\""
   ]
  },
  {
   "cell_type": "code",
   "execution_count": 3,
   "id": "76710ca6-3083-4fae-be44-249c3a4cdb81",
   "metadata": {},
   "outputs": [],
   "source": [
    "files = [file for file in os.listdir(path) if file.endswith(extension)]"
   ]
  },
  {
   "cell_type": "code",
   "execution_count": 7,
   "id": "cdec6e91-cf13-4833-96b5-dcd9081fabe2",
   "metadata": {},
   "outputs": [],
   "source": [
    "dfs = []\n",
    "for file in files:\n",
    "    df = pd.read_csv(os.path.join(path, file))\n",
    "    dfs.append(df)"
   ]
  },
  {
   "cell_type": "code",
   "execution_count": 9,
   "id": "313f3aa0-4f07-4b70-8f5f-94e6ca7a9b62",
   "metadata": {},
   "outputs": [],
   "source": [
    "df = pd.concat(dfs, ignore_index=True)"
   ]
  },
  {
   "cell_type": "code",
   "execution_count": 16,
   "id": "10ded99b-2df5-4026-b750-e077d035de67",
   "metadata": {},
   "outputs": [],
   "source": [
    "df.to_csv(\"data/dataset.csv\", index=False)"
   ]
  },
  {
   "cell_type": "code",
   "execution_count": null,
   "id": "cb404f04-e5bf-4c1e-bf35-36902eafb55c",
   "metadata": {},
   "outputs": [],
   "source": []
  }
 ],
 "metadata": {
  "kernelspec": {
   "display_name": "FootballPredictor",
   "language": "python",
   "name": "footballpredictor"
  },
  "language_info": {
   "codemirror_mode": {
    "name": "ipython",
    "version": 3
   },
   "file_extension": ".py",
   "mimetype": "text/x-python",
   "name": "python",
   "nbconvert_exporter": "python",
   "pygments_lexer": "ipython3",
   "version": "3.9.1"
  }
 },
 "nbformat": 4,
 "nbformat_minor": 5
}
